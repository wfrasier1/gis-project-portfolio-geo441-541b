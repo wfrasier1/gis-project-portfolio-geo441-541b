{
  "nbformat": 4,
  "nbformat_minor": 0,
  "metadata": {
    "colab": {
      "provenance": [],
      "toc_visible": true,
      "include_colab_link": true
    },
    "kernelspec": {
      "name": "python3",
      "display_name": "Python 3"
    },
    "language_info": {
      "name": "python"
    }
  },
  "cells": [
    {
      "cell_type": "markdown",
      "metadata": {
        "id": "view-in-github",
        "colab_type": "text"
      },
      "source": [
        "<a href=\"https://colab.research.google.com/github/wfrasier1/gis-project-portfolio-geo441-541b/blob/main/Copy_of_week_10_assignment_template.ipynb\" target=\"_parent\"><img src=\"https://colab.research.google.com/assets/colab-badge.svg\" alt=\"Open In Colab\"/></a>"
      ]
    },
    {
      "cell_type": "markdown",
      "source": [
        "# **Practice spatial analysis for vector data**"
      ],
      "metadata": {
        "id": "C0ymCPR5aSHN"
      }
    },
    {
      "cell_type": "markdown",
      "source": [
        "🚀 Created by Will Frasier\n",
        "\n",
        "11/04/2024"
      ],
      "metadata": {
        "id": "Pt_OREXFPvkr"
      }
    },
    {
      "cell_type": "markdown",
      "source": [
        "## **Get ready to start**\n",
        "\n",
        "- Click **`File/Save a copy in Drive`** to save a copy of this notebook to my own Google Drive"
      ],
      "metadata": {
        "id": "CMQN_pgaHVLO"
      }
    },
    {
      "cell_type": "markdown",
      "source": [
        "## **Overview**\n",
        "\n",
        "- This notebook includes two parts and three maps\n",
        "  - Part 1: Use buffer and overlay analysis to identify potential campgrounds in Hugo, MN\n",
        "  - Part 2: Uses geospatial data to replicate Dr. John Snow's discovery on the root cause of the spread of cholera in London during 1850s, a prime example of geospatial analysis and the onset of the epidemology.\n",
        "\n",
        "    <div>\n",
        "    <img src=\"https://adventuresinmapping.com/wp-content/uploads/2023/12/johnsnowcholeramap.png\" width= 700px />\n",
        "    </div>"
      ],
      "metadata": {
        "id": "6tKmlbnzny_I"
      }
    },
    {
      "cell_type": "markdown",
      "source": [
        "## **Part 1: Identify potential campgrounds in Hugo, MN**"
      ],
      "metadata": {
        "id": "knQezaT0XILw"
      }
    },
    {
      "cell_type": "markdown",
      "source": [
        "- Use the checklist below to make sure our map contains all necessary map content and is formatted correctly\n",
        "\n",
        "  - [x] Contains a title with byline (i.e., by [your name])\n",
        "  - [x] Use a larger and bold font type for the title\n",
        "  - [x] Contains a layer of **lakes** and a layer of **roads**\n",
        "  - [x] Contains a layer of **potential campgrounds on private land**\n",
        "  - [x] Use a light-colored background map\n",
        "  - [x] Contains a map scale\n",
        "  - [x] Contains a legend\n",
        "  - [x] Contains a north arrow\n",
        "  - [x] Uses a balanced layout for all map elements\n",
        "    - [x] Map stays in the center of layout\n",
        "    - [x] Font size of title is appropriate (not too big or too small)\n",
        "    - [x] Legend, map scale bar, and north arrow are placed appropriately to avoid an overlap with the map layers\n",
        "    - [x] Legend, map scale bar, and north arrow has an appropriate size (big enough to read information, small enough to reserve most of space for map layers"
      ],
      "metadata": {
        "id": "-NOVGCtkXOm-"
      }
    },
    {
      "cell_type": "markdown",
      "source": [
        "```markdown\n",
        "[put a link from Google Drive folder for your PNG file of the map and remove this line]\n",
        "```\n",
        "\n",
        "- After finishing the two steps below, a link can be created to correctly rendered in Google Colab\n",
        "  - Deleted **`/view?usp=sharing`** at the end of the link\n",
        "  - Replaced **`/file/d/`** with **`/uc?export=view&id=`**\n",
        "\n",
        "```markdown\n",
        "[put your revised link and remove this line]\n",
        "```\n",
        "\n",
        "- The map can be inserted in Google Colab following the syntax [from here](https://www.markdownguide.org/cheat-sheet/)\n",
        "\n",
        "```markdown\n",
        "Insert the map here using syntax:\n",
        "![potential campground](revised link)\n",
        "```\n",
        "\n",
        "![potential campground](https://drive.google.com/uc?export=view&id=1SCpvZHFLZrhC1I7SELEMk1p_Y4_YTnn2)"
      ],
      "metadata": {
        "id": "pEt8eG3wXiio"
      }
    }
  ]
}
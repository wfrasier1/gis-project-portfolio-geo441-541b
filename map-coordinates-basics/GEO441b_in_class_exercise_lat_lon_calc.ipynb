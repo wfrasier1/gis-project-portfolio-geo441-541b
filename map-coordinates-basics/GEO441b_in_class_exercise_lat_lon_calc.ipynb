{
  "nbformat": 4,
  "nbformat_minor": 0,
  "metadata": {
    "colab": {
      "provenance": [],
      "toc_visible": true,
      "include_colab_link": true
    },
    "kernelspec": {
      "name": "python3",
      "display_name": "Python 3"
    },
    "language_info": {
      "name": "python"
    }
  },
  "cells": [
    {
      "cell_type": "markdown",
      "metadata": {
        "id": "view-in-github",
        "colab_type": "text"
      },
      "source": [
        "<a href=\"https://colab.research.google.com/github/wfrasier1/gis-project-portfolio-geo441-541b/blob/main/map-coordinates-basics/GEO441b_in_class_exercise_lat_lon_calc.ipynb\" target=\"_parent\"><img src=\"https://colab.research.google.com/assets/colab-badge.svg\" alt=\"Open In Colab\"/></a>"
      ]
    },
    {
      "cell_type": "markdown",
      "source": [
        "# **Latitude and Longitude: Understanding Geographic Coordinates**\n",
        "\n",
        "Used in class on 9/9/2024\n",
        "\n",
        "- Make a copy of this notebook to work from **`File\\Save a Copy in Drive`**\n",
        "\n",
        "### **Introduction**\n",
        "\n",
        "Latitude and longitude are the geographic coordinates used to specify any location on Earth. They form the basis for navigation, mapping, and geolocation.\n",
        "\n",
        "- **Latitude** measures how far north or south a point is from the Equator.\n",
        "- **Longitude** measures how far east or west a point is from the Prime Meridian.\n",
        "\n",
        "<img src=\"https://upload.wikimedia.org/wikipedia/commons/thumb/8/83/Latitude_and_longitude_graticule_on_a_sphere.svg/800px-Latitude_and_longitude_graticule_on_a_sphere.svg.png\" alt=\"Latitude lines\" width=\"50%\">\n",
        "\n",
        "*Image: A perspective view of the Earth showing how latitude (ϕ) and longitude (λ) are defined on a spherical model. The graticule spacing is 10 degrees.*\n",
        "\n",
        "---"
      ],
      "metadata": {
        "id": "tp6bNsWwOKCO"
      }
    },
    {
      "cell_type": "markdown",
      "source": [
        "### **1. Latitude: Measuring North and South**\n",
        "\n",
        "Latitude is represented by horizontal lines (parallels) running around the globe. It measures the angle between a location and the Equator, with values ranging from **0° at the Equator** to **90° North** (at the North Pole) or **90° South** (at the South Pole).\n",
        "\n",
        "- **Northern Hemisphere**: All locations above the Equator have positive latitude values, like 40° N for New York City.\n",
        "- **Southern Hemisphere**: All locations below the Equator have negative latitude values, like -33° S for Sydney, Australia.\n",
        "\n",
        "---"
      ],
      "metadata": {
        "id": "pMOv1VznUImz"
      }
    },
    {
      "cell_type": "markdown",
      "source": [
        "### **2. Longitude: Measuring East and West**\n",
        "\n",
        "Longitude lines, called meridians, run vertically from pole to pole. Longitude measures how far a location is east or west of the Prime Meridian, which is **0° longitude** and passes through Greenwich, England.\n",
        "\n",
        "- **Eastern Hemisphere**: Locations to the east of the Prime Meridian have positive longitude values, like **30° E**.\n",
        "- **Western Hemisphere**: Locations to the west of the Prime Meridian have negative longitude values, like **-74° W** for New York City.\n",
        "\n",
        "---"
      ],
      "metadata": {
        "id": "dYZ-UTwpVI1L"
      }
    },
    {
      "cell_type": "markdown",
      "source": [
        "### **3. How Latitude and Longitude Work Together**\n",
        "\n",
        "The combination of latitude and longitude helps us pinpoint an exact location on Earth. For example, the coordinates **40.7128° N, 74.0060° W** refer to New York City.\n",
        "\n",
        "In this system:\n",
        "- The latitude (40.7128° N) tells us **how far north of the Equator the location is**.\n",
        "- The longitude (74.0060° W) tells us **how far west of the Prime Meridian the location is**.\n",
        "\n",
        "---"
      ],
      "metadata": {
        "id": "Wc6da2PrVYQr"
      }
    },
    {
      "cell_type": "markdown",
      "source": [
        "### **4. Conversion between Degree, Minute, Second (DMS) and Decimal Degree**\n",
        "\n",
        "To calculate the longitude:\n",
        "- Measure the angle east or west from the Prime Meridian (which runs through Greenwich, England).\n",
        "- Locations **east** of the Prime Meridian are given **positive** values (up to +180°).\n",
        "- Locations **west** of the Prime Meridian are given **negative** values (up to -180°).\n",
        "\n",
        "To calculate the latitude:\n",
        "- Measure the angle north or south from the Equator.\n",
        "- Locations **north** of the Equator are given **positive** values (up to +90).\n",
        "- Locations **south** of the Equator are given **negative** values (up to -90).\n",
        "\n",
        "\n",
        "**Formula:**\n",
        "The geographic coordinates can be determined through satellite systems, like GPS, or through maps.\n",
        "There are also conversion tools to switch between degrees, minutes, seconds (DMS) format and decimal degrees.\n",
        "\n",
        "$$\n",
        "1\\,minute = 1' = (\\frac{1}{60})°\n",
        "$$\n",
        "\n",
        "$$\n",
        "1\\,second = 1\" = (\\frac{1}{60})' = (\\frac{1}{3600})°\n",
        "$$\n",
        "\n",
        "For example:\n",
        "- **DMS**: 40° 42' 51\" N, 74° 0' 21\" W\n",
        "\n",
        "$$\n",
        "Latitude = 40 + \\frac{1}{60} \\times 42 + \\frac{1}{3600} \\times 51 = 40.7142°\n",
        "$$\n",
        "\n",
        "$$\n",
        "Longitude = 74 + \\frac{1}{60} \\times 0 + \\frac{1}{3600} \\times 21 = [Result]\n",
        "$$\n",
        "\n",
        "- **Decimal**: 40.7142°N, [Insert longitude results here]\n",
        "\n",
        "---"
      ],
      "metadata": {
        "id": "hGPCW3HzVfHN"
      }
    },
    {
      "cell_type": "markdown",
      "source": [
        "### **5. Great Circle and Rhumb Line**\n",
        "\n",
        "**Great Circle**\n",
        "\n",
        "A **great circle** is the shortest path between two points on the surface of a sphere, like the Earth. It is any circle that divides the Earth into two equal halves. The most common example is the Equator, but meridians (longitude lines) are also great circles. Airlines often follow great circle routes for long-distance flights to minimize travel time and fuel consumption.\n",
        "\n",
        "- **Key feature:** The shortest distance between two points on a sphere.\n",
        "\n",
        "![img](https://www.kavas.com/storage/media/wysiwyg/blog/great_circle-vs-rhumb_line.jpg)\n",
        "\n",
        "**Rhumb Line (Loxodrome)**\n",
        "\n",
        "A **rhumb line** is a path that crosses all meridians of longitude at the same angle. It represents a constant compass direction (bearing), making it easier for navigation. However, it is not the shortest path between two points except along the Equator or meridians. Rhumb lines are commonly used in marine navigation because of their simplicity.\n",
        "\n",
        "- **Key feature:** Maintains a constant angle with meridians (constant bearing).\n",
        "\n",
        "![img](https://www.kavas.com/storage/media/wysiwyg/blog/gcircle-rline-B.jpg)\n",
        "\n",
        "In summary:\n",
        "- **Great circle**: Shortest distance but with changing bearings.\n",
        "- **Rhumb line**: Longer distance but maintains a constant compass direction.\n",
        "\n",
        "---"
      ],
      "metadata": {
        "id": "7TthNN-hYeFS"
      }
    },
    {
      "cell_type": "markdown",
      "source": [
        "### **6. Generate a Great Circle between Two Points on Earth**\n",
        "\n",
        "- Use the following online tool to generate a great circle route between two airports\n",
        "  - [Great Circle Map](https://www.greatcirclemap.com/)\n",
        "  - Airports\n",
        "    - Start: SIN\n",
        "    - End: JFK\n",
        "- Take a screenshot of your results, with the great circle route shown in the middle\n",
        "  - Windows PC User\n",
        "\n",
        "![windows](https://www.wikihow.com/images/thumb/9/93/Take-a-Screenshot-in-Microsoft-Windows-Step-17-Version-5.jpg/v4-460px-Take-a-Screenshot-in-Microsoft-Windows-Step-17-Version-5.jpg.webp)\n",
        "\n",
        "  - Mac OS User\n",
        "\n",
        "![Mac](https://encrypted-tbn0.gstatic.com/images?q=tbn:ANd9GcThtDvlJiJq_rYgJ98nK8cgnXWRAn2RWihW6OrbRGvES5WWk63XhKjU2Ks_9sylHjpAMg&usqp=CAU)\n",
        "\n",
        "- Upload the screenshot to a Google Drive folder and change the access to **`Anyone with link can view`**\n",
        "- Copy the link to share here\n",
        "\n",
        "```markdown\n",
        "[Link from Google Drive folder]\n",
        "```\n",
        "\n",
        "- Edit the link to obtain a revised link to allow Google Colab to render the picture correctly\n",
        "  - 1.Delete **`/view?usp=sharing`** at the end of the link\n",
        "  - 2.Replace **`/file/d/`** with **`/uc?export=view&id=`**\n",
        "\n",
        "```markdown\n",
        "[Revised link]\n",
        "```"
      ],
      "metadata": {
        "id": "xMacaKi3Z9am"
      }
    },
    {
      "cell_type": "markdown",
      "source": [
        "- Revise the line below to insert the great circle map between **`SIN`** (Singapore Changi International Airport) and **`JFK`** (New York J.F.Kennedy International Airport)\n",
        "\n",
        "![great circle SIN-JFK]([Replace with revised link])"
      ],
      "metadata": {
        "id": "z7LpUvxbbV2e"
      }
    }
  ]
}
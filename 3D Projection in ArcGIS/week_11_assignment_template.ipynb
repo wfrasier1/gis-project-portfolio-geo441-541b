{
  "nbformat": 4,
  "nbformat_minor": 0,
  "metadata": {
    "colab": {
      "provenance": [],
      "include_colab_link": true
    },
    "kernelspec": {
      "name": "python3",
      "display_name": "Python 3"
    },
    "language_info": {
      "name": "python"
    }
  },
  "cells": [
    {
      "cell_type": "markdown",
      "metadata": {
        "id": "view-in-github",
        "colab_type": "text"
      },
      "source": [
        "<a href=\"https://colab.research.google.com/github/wfrasier1/gis-project-portfolio-geo441-541b/blob/main/week_11_assignment_template.ipynb\" target=\"_parent\"><img src=\"https://colab.research.google.com/assets/colab-badge.svg\" alt=\"Open In Colab\"/></a>"
      ]
    },
    {
      "cell_type": "markdown",
      "source": [
        "# **Learning to Build 3D Models In ARCGIS**"
      ],
      "metadata": {
        "id": "C0ymCPR5aSHN"
      }
    },
    {
      "cell_type": "markdown",
      "source": [
        "🚀 Created by Will Frasier\n",
        "\n",
        "11/13/2024"
      ],
      "metadata": {
        "id": "Pt_OREXFPvkr"
      }
    },
    {
      "cell_type": "markdown",
      "source": [
        "## **Get ready to start**\n",
        "\n",
        "- Click **`File/Save a copy in Drive`** to save a copy of this notebook to my own Google Drive"
      ],
      "metadata": {
        "id": "CMQN_pgaHVLO"
      }
    },
    {
      "cell_type": "markdown",
      "source": [
        "## **Overview**\n",
        "\n",
        "- This notebook includes three buildings in one local scene map\n",
        "  - All 3 building are located on \"block 171\" and are numbered 7, 8, and 9.\n",
        "  -This sheet will display all maps together then separately with details of each individual one.\n",
        "\n",
        "  ![Block Number](https://drive.google.com/uc?export=view&id=1_Y7aotUT0CEqrwSYjjwsHFJHN-pGYRJI)\n",
        "\n",
        "  "
      ],
      "metadata": {
        "id": "6tKmlbnzny_I"
      }
    },
    {
      "cell_type": "markdown",
      "source": [
        "## **First Building: Block#171 Lot#7**"
      ],
      "metadata": {
        "id": "knQezaT0XILw"
      }
    },
    {
      "cell_type": "markdown",
      "source": [
        "- This list is to detail what goes into each lot number.\n",
        "  - Block Number is 171\n",
        "  - Lot Number is 7\n",
        "  - Block Lot is 171-7\n",
        "  - Block Lot Building 171-7\n",
        "  - Height in Feet is 40\n",
        "  - Number of floors is 2\n",
        "\n",
        "\n",
        "![Block Number](https://drive.google.com/uc?export=view&id=1iehgC9WhH6EYmjRiZfAxK6EsELTlI3Js)\n"
      ],
      "metadata": {
        "id": "-NOVGCtkXOm-"
      }
    },
    {
      "cell_type": "code",
      "source": [],
      "metadata": {
        "id": "4wKlp3JFZF-A"
      },
      "execution_count": null,
      "outputs": []
    },
    {
      "cell_type": "markdown",
      "source": [
        "## **Second Building: Block#171 Lot#8**"
      ],
      "metadata": {
        "id": "zNWPkAxUXnEt"
      }
    },
    {
      "cell_type": "markdown",
      "source": [
        "- This list is to detail what goes into each lot number.\n",
        "  - Block Number is 171\n",
        "  - Lot Number is 8\n",
        "  - Block Lot is 171-8\n",
        "  - Block Lot Building 171-8\n",
        "  - Height in Feet is 36\n",
        "  - Number of floors is 2\n",
        "\n",
        "\n",
        " ![Block Number](https://drive.google.com/uc?export=view&id=1b-pCs7KeRCpj20RqAwPE969OGkhu0BqX)\n",
        "\n"
      ],
      "metadata": {
        "id": "s1fIk7zdWZF6"
      }
    },
    {
      "cell_type": "markdown",
      "source": [
        "## **Third Building: Block#171 Lot#9**"
      ],
      "metadata": {
        "id": "Xy1iTFLrp0JH"
      }
    },
    {
      "cell_type": "markdown",
      "source": [
        "- This list is to detail what goes into each lot number.\n",
        "  - Block Number is 171\n",
        "  - Lot Number is 7\n",
        "  - Block Lot is 171-9\n",
        "  - Block Lot Building 171-9\n",
        "  - Height in Feet is 80\n",
        "  - Number of floors is 6\n",
        "\n",
        "   ![Block Number](https://drive.google.com/uc?export=view&id=1QIbL61Q9uWEPW-4heQlrilpIwI5jNb7P)\n",
        "\n"
      ],
      "metadata": {
        "id": "fjCS886Up_cU"
      }
    },
    {
      "cell_type": "markdown",
      "source": [
        "## **Save and share this notebook**\n",
        "\n",
        "- **Save the final version of this notebook to your GitHub repository of GEO 441/541B**\n",
        "  - You can place this notebook under a new folder of `spatial_analysis`\n",
        "  - Update your README document to link the copy of this notebook in the GitHub repository\n",
        "- Submit a link to your GitHub for Week 10 assignment\n"
      ],
      "metadata": {
        "id": "kkgukjDcXsqC"
      }
    },
    {
      "cell_type": "markdown",
      "source": [
        "## **Reference**\n",
        "\n",
        "- [Markdown cheat sheet](https://www.markdownguide.org/cheat-sheet/)\n",
        "- [Insert other references]"
      ],
      "metadata": {
        "id": "fvMbEX89YLeY"
      }
    }
  ]
}